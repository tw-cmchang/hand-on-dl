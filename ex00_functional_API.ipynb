{
 "cells": [
  {
   "cell_type": "code",
   "execution_count": 7,
   "metadata": {},
   "outputs": [],
   "source": [
    "import numpy as np\n",
    "exec(open(\"00_readingInput.py\").read())"
   ]
  },
  {
   "cell_type": "markdown",
   "metadata": {},
   "source": [
    "### Sequential model "
   ]
  },
  {
   "cell_type": "code",
   "execution_count": 8,
   "metadata": {},
   "outputs": [],
   "source": [
    "from keras.models import Sequential\n",
    "from keras.layers import Dense, Activation"
   ]
  },
  {
   "cell_type": "code",
   "execution_count": 9,
   "metadata": {},
   "outputs": [
    {
     "name": "stdout",
     "output_type": "stream",
     "text": [
      "_________________________________________________________________\n",
      "Layer (type)                 Output Shape              Param #   \n",
      "=================================================================\n",
      "dense_7 (Dense)              (None, 128)               25728     \n",
      "_________________________________________________________________\n",
      "activation_7 (Activation)    (None, 128)               0         \n",
      "_________________________________________________________________\n",
      "dense_8 (Dense)              (None, 256)               33024     \n",
      "_________________________________________________________________\n",
      "activation_8 (Activation)    (None, 256)               0         \n",
      "_________________________________________________________________\n",
      "dense_9 (Dense)              (None, 5)                 1285      \n",
      "_________________________________________________________________\n",
      "activation_9 (Activation)    (None, 5)                 0         \n",
      "=================================================================\n",
      "Total params: 60,037\n",
      "Trainable params: 60,037\n",
      "Non-trainable params: 0\n",
      "_________________________________________________________________\n"
     ]
    }
   ],
   "source": [
    "model_ce = Sequential()\n",
    "model_ce.add(Dense(128, input_dim=200))\n",
    "model_ce.add(Activation('sigmoid'))\n",
    "model_ce.add(Dense(256))\n",
    "model_ce.add(Activation('sigmoid'))\n",
    "model_ce.add(Dense(5))\n",
    "model_ce.add(Activation('softmax'))\n",
    "\n",
    "model_ce.summary()"
   ]
  },
  {
   "cell_type": "markdown",
   "metadata": {},
   "source": [
    "### Functional API "
   ]
  },
  {
   "cell_type": "code",
   "execution_count": 1,
   "metadata": {},
   "outputs": [
    {
     "name": "stderr",
     "output_type": "stream",
     "text": [
      "Using TensorFlow backend.\n"
     ]
    }
   ],
   "source": [
    "from keras.models import Model, Input\n",
    "from keras.layers import Dense, Activation"
   ]
  },
  {
   "cell_type": "code",
   "execution_count": 12,
   "metadata": {},
   "outputs": [],
   "source": []
  },
  {
   "cell_type": "code",
   "execution_count": 2,
   "metadata": {},
   "outputs": [
    {
     "name": "stdout",
     "output_type": "stream",
     "text": [
      "WARNING:tensorflow:From /Library/Frameworks/Python.framework/Versions/3.6/lib/python3.6/site-packages/tensorflow/python/framework/op_def_library.py:263: colocate_with (from tensorflow.python.framework.ops) is deprecated and will be removed in a future version.\n",
      "Instructions for updating:\n",
      "Colocations handled automatically by placer.\n",
      "_________________________________________________________________\n",
      "Layer (type)                 Output Shape              Param #   \n",
      "=================================================================\n",
      "input_1 (InputLayer)         (None, 200)               0         \n",
      "_________________________________________________________________\n",
      "dense_1 (Dense)              (None, 128)               25728     \n",
      "_________________________________________________________________\n",
      "dense_2 (Dense)              (None, 256)               33024     \n",
      "_________________________________________________________________\n",
      "dense_3 (Dense)              (None, 5)                 1285      \n",
      "=================================================================\n",
      "Total params: 60,037\n",
      "Trainable params: 60,037\n",
      "Non-trainable params: 0\n",
      "_________________________________________________________________\n"
     ]
    }
   ],
   "source": [
    "x = Input(shape=[200,])\n",
    "s1 = Dense(128, activation='sigmoid')(x)\n",
    "s2 = Dense(256, activation='sigmoid')(s1)\n",
    "s3 = Dense(5, activation='softmax')(s2)\n",
    "\n",
    "model_funcAPI = Model(inputs=[x], outputs=[s3])\n",
    "model_s1 = Model(inputs=[x], outputs=[s1]) \n",
    "\n",
    "model_funcAPI.summary()"
   ]
  },
  {
   "cell_type": "code",
   "execution_count": 4,
   "metadata": {},
   "outputs": [
    {
     "name": "stdout",
     "output_type": "stream",
     "text": [
      "_________________________________________________________________\n",
      "Layer (type)                 Output Shape              Param #   \n",
      "=================================================================\n",
      "input_1 (InputLayer)         (None, 200)               0         \n",
      "_________________________________________________________________\n",
      "dense_1 (Dense)              (None, 128)               25728     \n",
      "=================================================================\n",
      "Total params: 25,728\n",
      "Trainable params: 25,728\n",
      "Non-trainable params: 0\n",
      "_________________________________________________________________\n"
     ]
    }
   ],
   "source": [
    "model_s1.summary()"
   ]
  },
  {
   "cell_type": "code",
   "execution_count": null,
   "metadata": {},
   "outputs": [],
   "source": [
    "\n",
    "\n",
    "''' Set up the optimizer '''\n",
    "from keras.optimizers import SGD, Adam, RMSprop, Adagrad\n",
    "sgd = SGD(lr=0.01,momentum=0.0,decay=0.0,nesterov=False)\n",
    "\n",
    "''' Compile model with specified loss and optimizer '''\n",
    "model_ce.compile(loss='categorical_crossentropy',\n",
    "\t\t\t\toptimizer=sgd,\n",
    "\t\t\t\tmetrics=['accuracy'])\n",
    "\n",
    "''' set the size of mini-batch and number of epochs'''\n",
    "batch_size = 16\n",
    "epochs = 30\n",
    "\n",
    "'''Fit models and use validation_split=0.1 '''\n",
    "history_ce = model_ce.fit(X_train, Y_train,\n",
    "\t\t\t\t\t\t\tbatch_size=batch_size,\n",
    "\t\t\t\t\t\t\tepochs=epochs,\n",
    "\t\t\t\t\t\t\tverbose=1,\n",
    "\t\t\t\t\t\t\tshuffle=True,\n",
    "                    \t\tvalidation_split=0.1)\n",
    "\n",
    "'''Access the loss and accuracy in every epoch'''\n",
    "loss_ce\t= history_ce.history.get('loss')\n",
    "acc_ce \t= history_ce.history.get('acc')\n",
    "\n",
    "''' Visualize the loss and accuracy of both models'''\n",
    "import matplotlib.pyplot as plt\n",
    "plt.figure(0)\n",
    "plt.subplot(121)\n",
    "plt.plot(range(len(loss_ce)), loss_ce,label='CE')\n",
    "plt.title('Loss')\n",
    "plt.legend(loc='upper left')\n",
    "plt.subplot(122)\n",
    "plt.plot(range(len(acc_ce)), acc_ce,label='CE')\n",
    "plt.title('Accuracy')\n",
    "plt.savefig('00_firstModel.png',dpi=300,format='png')\n",
    "plt.close()\n",
    "print('Result saved into 00_firstModel.png')\n"
   ]
  },
  {
   "cell_type": "code",
   "execution_count": null,
   "metadata": {},
   "outputs": [],
   "source": []
  }
 ],
 "metadata": {
  "kernelspec": {
   "display_name": "Python 3",
   "language": "python",
   "name": "python3"
  },
  "language_info": {
   "codemirror_mode": {
    "name": "ipython",
    "version": 3
   },
   "file_extension": ".py",
   "mimetype": "text/x-python",
   "name": "python",
   "nbconvert_exporter": "python",
   "pygments_lexer": "ipython3",
   "version": "3.6.3"
  }
 },
 "nbformat": 4,
 "nbformat_minor": 2
}
